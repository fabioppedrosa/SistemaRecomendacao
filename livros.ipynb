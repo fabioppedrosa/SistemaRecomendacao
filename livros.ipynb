{
 "cells": [
  {
   "cell_type": "code",
   "execution_count": 1,
   "metadata": {},
   "outputs": [],
   "source": [
    "import pandas as pd\n",
    "import numpy as np"
   ]
  },
  {
   "cell_type": "markdown",
   "metadata": {},
   "source": [
    "#### Realizando a leitura dos datasets"
   ]
  },
  {
   "cell_type": "code",
   "execution_count": 2,
   "metadata": {},
   "outputs": [
    {
     "data": {
      "text/html": [
       "<div>\n",
       "<style scoped>\n",
       "    .dataframe tbody tr th:only-of-type {\n",
       "        vertical-align: middle;\n",
       "    }\n",
       "\n",
       "    .dataframe tbody tr th {\n",
       "        vertical-align: top;\n",
       "    }\n",
       "\n",
       "    .dataframe thead th {\n",
       "        text-align: right;\n",
       "    }\n",
       "</style>\n",
       "<table border=\"1\" class=\"dataframe\">\n",
       "  <thead>\n",
       "    <tr style=\"text-align: right;\">\n",
       "      <th></th>\n",
       "      <th>User-ID</th>\n",
       "      <th>ISBN</th>\n",
       "      <th>Book-Rating</th>\n",
       "    </tr>\n",
       "  </thead>\n",
       "  <tbody>\n",
       "    <tr>\n",
       "      <th>0</th>\n",
       "      <td>276725</td>\n",
       "      <td>034545104X</td>\n",
       "      <td>0</td>\n",
       "    </tr>\n",
       "    <tr>\n",
       "      <th>1</th>\n",
       "      <td>276726</td>\n",
       "      <td>0155061224</td>\n",
       "      <td>5</td>\n",
       "    </tr>\n",
       "    <tr>\n",
       "      <th>2</th>\n",
       "      <td>276727</td>\n",
       "      <td>0446520802</td>\n",
       "      <td>0</td>\n",
       "    </tr>\n",
       "    <tr>\n",
       "      <th>3</th>\n",
       "      <td>276729</td>\n",
       "      <td>052165615X</td>\n",
       "      <td>3</td>\n",
       "    </tr>\n",
       "    <tr>\n",
       "      <th>4</th>\n",
       "      <td>276729</td>\n",
       "      <td>0521795028</td>\n",
       "      <td>6</td>\n",
       "    </tr>\n",
       "  </tbody>\n",
       "</table>\n",
       "</div>"
      ],
      "text/plain": [
       "   User-ID        ISBN  Book-Rating\n",
       "0   276725  034545104X            0\n",
       "1   276726  0155061224            5\n",
       "2   276727  0446520802            0\n",
       "3   276729  052165615X            3\n",
       "4   276729  0521795028            6"
      ]
     },
     "execution_count": 2,
     "metadata": {},
     "output_type": "execute_result"
    }
   ],
   "source": [
    "df_book_rating = pd.read_csv('BX-Book-Ratings.csv',sep=';',encoding = 'unicode_escape')\n",
    "df_book_rating.head()"
   ]
  },
  {
   "cell_type": "code",
   "execution_count": null,
   "metadata": {},
   "outputs": [],
   "source": [
    "colunas = [\"ISBN\",\"Book-Title\",\"Book-Author\",\"Year-Of-Publication\",\"Publisher\",\"Image-URL-S\",\"Image-URL-M\",\"Image-URL-L\"]\n",
    "df_book = pd.read_csv('BX-Books.csv',sep=';',names=colunas,encoding = 'unicode_escape',skiprows=1)\n",
    "df_book.head()"
   ]
  },
  {
   "cell_type": "code",
   "execution_count": null,
   "metadata": {},
   "outputs": [],
   "source": [
    "df_usuario = pd.read_csv('BX-Users.csv',sep=';',encoding = 'unicode_escape')\n",
    "df_usuario.head()"
   ]
  },
  {
   "cell_type": "markdown",
   "metadata": {},
   "source": [
    "#### Unindo os dados em um único dataframe"
   ]
  },
  {
   "cell_type": "code",
   "execution_count": null,
   "metadata": {},
   "outputs": [],
   "source": [
    "df = pd.merge(pd.merge(df_book_rating,df_usuario),df_book)\n",
    "df.head()"
   ]
  },
  {
   "cell_type": "markdown",
   "metadata": {},
   "source": [
    "#### Substituindo os valores nulos para a o campo Age"
   ]
  },
  {
   "cell_type": "code",
   "execution_count": null,
   "metadata": {},
   "outputs": [],
   "source": [
    "df['Age'] = df['Age'].fillna(df['Age'].median())\n",
    "df.head()"
   ]
  },
  {
   "cell_type": "markdown",
   "metadata": {},
   "source": [
    "#### Criando o campo de faixa_idade"
   ]
  },
  {
   "cell_type": "code",
   "execution_count": null,
   "metadata": {},
   "outputs": [],
   "source": [
    "bins = [0,18,25,35,45,55,60]\n",
    "df['faixa_idade']=pd.DataFrame(pd.cut(df['Age'].values.tolist(),bins))\n",
    "\n",
    "#df['faixa_idade_18'] = (df['Age']<=18)\n",
    "#df['faixa_idade_25'] = ((df['Age']> 18) & (df['Age']<=25))\n",
    "#df['faixa_idade_35'] = ((df['Age']> 25) & (df['Age']<=35))\n",
    "#df['faixa_idade_45'] = ((df['Age']> 35) & (df['Age']<=45))\n",
    "#df['faixa_idade_55'] = ((df['Age']> 45) & (df['Age']<=55))\n",
    "#df['faixa_idade_60'] = (df['Age']> 55)\n",
    "df.head()"
   ]
  },
  {
   "cell_type": "markdown",
   "metadata": {},
   "source": [
    "#### Pivotando os dados por ano de publicação e faixa de idade para plotar o gráfico"
   ]
  },
  {
   "cell_type": "code",
   "execution_count": null,
   "metadata": {},
   "outputs": [],
   "source": [
    "total = df.pivot_table('Book-Title',index='Age',columns='faixa_idade',aggfunc='count')\n",
    "total.plot(title='Tota de livros lidos por faixa de idade')"
   ]
  },
  {
   "cell_type": "code",
   "execution_count": null,
   "metadata": {},
   "outputs": [],
   "source": [
    "total = df.pivot_table('Book-Title',index='faixa_idade',columns='Book-Rating',aggfunc='count')\n",
    "total.head()"
   ]
  },
  {
   "cell_type": "code",
   "execution_count": null,
   "metadata": {},
   "outputs": [],
   "source": [
    "subset = total[range(0,10)]\n",
    "subset.plot(subplots=True,figsize=(12,10),grid=False,title='total de avaliações por faixa de idade')"
   ]
  },
  {
   "cell_type": "code",
   "execution_count": null,
   "metadata": {},
   "outputs": [],
   "source": [
    "#separando os livros com no minimo 100 avaliações\n",
    "new_df = df.groupby('ISBN').filter(lambda x: x['Book-Rating'].count ()>= 100)\n",
    "new_df.head()"
   ]
  },
  {
   "cell_type": "code",
   "execution_count": null,
   "metadata": {},
   "outputs": [],
   "source": [
    "import plotly.express as px"
   ]
  },
  {
   "cell_type": "code",
   "execution_count": null,
   "metadata": {},
   "outputs": [],
   "source": [
    "new_df.rename(columns = {'Book-Rating': 'rating'}, inplace = True)\n",
    "new_df_02 = pd.DataFrame(new_df.groupby('rating').rating.count())\n",
    "new_df_02['avaliacao'] = new_df_02.index\n",
    "new_df_02.rename(columns = {'rating': 'qtd_avaliacao'}, inplace = True)"
   ]
  },
  {
   "cell_type": "code",
   "execution_count": null,
   "metadata": {},
   "outputs": [],
   "source": [
    "fig = px.bar(new_df_02, x=\"avaliacao\", y=\"qtd_avaliacao\", color=\"qtd_avaliacao\", title=\"Quantidade de avaliações\")\n",
    "fig.show()"
   ]
  },
  {
   "cell_type": "code",
   "execution_count": null,
   "metadata": {},
   "outputs": [],
   "source": [
    "# Criação de um novo DataFrame com classificação média e número de classificações por produto\n",
    "ratings_df = pd.DataFrame(new_df.groupby('ISBN').rating.mean())\n",
    "ratings_df['qtd_avaliacoes'] = new_df.groupby('ISBN').rating.count()\n",
    "ratings_df.rename(columns = {'rating': 'media_avaliacao'}, inplace = True)\n",
    "ratings_df.media_avaliacao.sort_values(ascending=False).head()"
   ]
  },
  {
   "cell_type": "code",
   "execution_count": null,
   "metadata": {},
   "outputs": [],
   "source": [
    "popular_products = pd.DataFrame(new_df.groupby('ISBN')['rating'].count())\n",
    "most_popular = popular_products.sort_values('rating', ascending=False)\n",
    "most_popular.head(30).plot(kind = \"bar\")"
   ]
  },
  {
   "cell_type": "code",
   "execution_count": null,
   "metadata": {},
   "outputs": [],
   "source": [
    "# Média Global das avaliações\n",
    "C = ratings_df['media_avaliacao'].mean()\n",
    "\n",
    "# Limite mínimo para ser elegível ao ranking\n",
    "m = ratings_df.qtd_avaliacoes.min()\n",
    "\n",
    "# Função que calcula a média ponderada de cada item\n",
    "def weighted_rating (x, m = m, C = C):\n",
    "    v = x['qtd_avaliacoes']\n",
    "    R = x['media_avaliacao']\n",
    "    # Calcula média ponderada\n",
    "    return (v/(v+m) * R) + (m/(m+v) * C)\n",
    "\n",
    "# Adiciona a 'pontuação' calculada com weighted_rating() ao dataframe\n",
    "ratings_df['score'] = ratings_df.apply(weighted_rating, axis=1)\n",
    "\n",
    "# Resultado final com os 15 produtos mais populares\n",
    "ratings_df.sort_values(by='score', ascending=False).head()"
   ]
  },
  {
   "cell_type": "code",
   "execution_count": null,
   "metadata": {},
   "outputs": [],
   "source": [
    "#!pip install scikit-surprise"
   ]
  },
  {
   "cell_type": "markdown",
   "metadata": {},
   "source": [
    "#### Criando modelo para recomendação"
   ]
  },
  {
   "cell_type": "code",
   "execution_count": null,
   "metadata": {},
   "outputs": [],
   "source": [
    "from surprise import KNNWithMeans\n",
    "from surprise import Dataset\n",
    "from surprise import accuracy\n",
    "from surprise import Reader\n",
    "from surprise.model_selection import train_test_split\n",
    "from sklearn.decomposition import TruncatedSVD"
   ]
  },
  {
   "cell_type": "code",
   "execution_count": null,
   "metadata": {},
   "outputs": [],
   "source": [
    "df_modelo=new_df[['User-ID','ISBN','rating']]\n",
    "df_modelo.head()"
   ]
  },
  {
   "cell_type": "code",
   "execution_count": null,
   "metadata": {},
   "outputs": [],
   "source": [
    "# Lendo o dataset\n",
    "reader = Reader(rating_scale=(0, 10))\n",
    "data = Dataset.load_from_df(new_df[['User-ID','ISBN','rating']],reader)"
   ]
  },
  {
   "cell_type": "code",
   "execution_count": null,
   "metadata": {},
   "outputs": [],
   "source": [
    "# Split dos dados 70% para treinamento e 30% para teste\n",
    "trainset, testset = train_test_split(data, test_size=0.3,random_state=10)"
   ]
  },
  {
   "cell_type": "code",
   "execution_count": null,
   "metadata": {},
   "outputs": [],
   "source": [
    "# Criação de um modelo baseado em item (user_based true / false para alternar entre filtragem colaborativa baseada em usuário ou baseada em item)\n",
    "algo = KNNWithMeans(k=5, sim_options={'user_based': False})\n",
    "algo.fit(trainset)"
   ]
  },
  {
   "cell_type": "code",
   "execution_count": null,
   "metadata": {},
   "outputs": [],
   "source": [
    "# Teste do modelo\n",
    "test_pred = algo.test(testset)\n",
    "\n",
    "print(\"Item-based Model : Test Set\")\n",
    "accuracy.rmse(test_pred, verbose=True)"
   ]
  },
  {
   "cell_type": "code",
   "execution_count": null,
   "metadata": {},
   "outputs": [],
   "source": [
    "#Usando a função get_neighbors para obter as 10 recomendações para o produto no índice 1\n",
    "algo.get_neighbors(1, 10)"
   ]
  },
  {
   "cell_type": "code",
   "execution_count": null,
   "metadata": {},
   "outputs": [],
   "source": [
    "# Lista os 10 produtos recomendados\n",
    "ratings_df.iloc[algo.get_neighbors(1, 10)].index"
   ]
  },
  {
   "cell_type": "markdown",
   "metadata": {},
   "source": [
    "#### Sistema de fatoração de matriz (algoritmo SVD)"
   ]
  },
  {
   "cell_type": "code",
   "execution_count": null,
   "metadata": {},
   "outputs": [],
   "source": [
    "new_df=new_df[['User-ID','ISBN','rating']]\n",
    "ratings_matrix = new_df.pivot_table(values='rating', index='User-ID', columns='ISBN', fill_value=0)\n",
    "ratings_matrix.head()\n"
   ]
  },
  {
   "cell_type": "code",
   "execution_count": null,
   "metadata": {},
   "outputs": [],
   "source": [
    "# Transposta da matriz\n",
    "X = ratings_matrix.T\n",
    "X.head()"
   ]
  },
  {
   "cell_type": "markdown",
   "metadata": {},
   "source": [
    "#### reduzirei a dimensionalidade usando Truncated SVD e calcularei a correlação entre os itens. Quanto mais os números se aproximam de 1, os itens / usuários são mais semelhantes. Quanto mais eles vão para -1, mais diferente"
   ]
  },
  {
   "cell_type": "code",
   "execution_count": null,
   "metadata": {},
   "outputs": [],
   "source": [
    "#Decomposição da Matriz.\n",
    "#A função SVD trunc irá reduzir a dimensão da matriz esparsa no número de componentes solicitados\n",
    "SVD_model = TruncatedSVD(n_components=10)\n",
    "decomposed_matrix = SVD_model.fit_transform(X)\n",
    "decomposed_matrix.shape\n"
   ]
  },
  {
   "cell_type": "code",
   "execution_count": null,
   "metadata": {},
   "outputs": [],
   "source": [
    "# Matriz de Correlação\n",
    "correlation_matrix = np.corrcoef(decomposed_matrix)\n",
    "correlation_matrix.shape"
   ]
  },
  {
   "cell_type": "code",
   "execution_count": null,
   "metadata": {},
   "outputs": [],
   "source": [
    "#indice do livro avaliado pelo cliente\n",
    "X.index[75]"
   ]
  },
  {
   "cell_type": "code",
   "execution_count": null,
   "metadata": {},
   "outputs": [],
   "source": [
    "i = \"0312305060\"\n",
    "\n",
    "product_names = list(X.index)\n",
    "product_ID = product_names.index(i)\n",
    "product_ID"
   ]
  },
  {
   "cell_type": "code",
   "execution_count": null,
   "metadata": {},
   "outputs": [],
   "source": [
    "#Correlação para todos os livros com o livro avaliado por este cliente, com base em livros avaliados por outras pessoas\n",
    "correlation_product_ID = correlation_matrix[product_ID]\n",
    "correlation_product_ID.shape"
   ]
  },
  {
   "cell_type": "code",
   "execution_count": null,
   "metadata": {},
   "outputs": [],
   "source": [
    "Recommend = list(X.index[correlation_product_ID > 0.65])\n",
    "#Remove o item avaliado pelo cliente\n",
    "Recommend.remove(i)\n",
    "#Lista dos 10 livros recomendados\n",
    "Recommend[0:10]"
   ]
  }
 ],
 "metadata": {
  "kernelspec": {
   "display_name": "Python 3",
   "language": "python",
   "name": "python3"
  },
  "language_info": {
   "codemirror_mode": {
    "name": "ipython",
    "version": 3
   },
   "file_extension": ".py",
   "mimetype": "text/x-python",
   "name": "python",
   "nbconvert_exporter": "python",
   "pygments_lexer": "ipython3",
   "version": "3.8.5"
  }
 },
 "nbformat": 4,
 "nbformat_minor": 4
}
